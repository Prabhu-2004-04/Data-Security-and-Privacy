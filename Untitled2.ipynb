{
  "nbformat": 4,
  "nbformat_minor": 0,
  "metadata": {
    "colab": {
      "provenance": [],
      "authorship_tag": "ABX9TyPr0b4fSxee4HKn3JEFWGr5",
      "include_colab_link": true
    },
    "kernelspec": {
      "name": "python3",
      "display_name": "Python 3"
    },
    "language_info": {
      "name": "python"
    }
  },
  "cells": [
    {
      "cell_type": "markdown",
      "metadata": {
        "id": "view-in-github",
        "colab_type": "text"
      },
      "source": [
        "<a href=\"https://colab.research.google.com/github/Prabhu-2004-04/Data-Security-and-Privacy/blob/main/Untitled2.ipynb\" target=\"_parent\"><img src=\"https://colab.research.google.com/assets/colab-badge.svg\" alt=\"Open In Colab\"/></a>"
      ]
    },
    {
      "cell_type": "code",
      "execution_count": null,
      "metadata": {
        "colab": {
          "base_uri": "https://localhost:8080/"
        },
        "id": "UQeXf84Na7K2",
        "outputId": "575d019e-3dfa-4669-f0da-beeeb6ef6f00"
      },
      "outputs": [
        {
          "output_type": "stream",
          "name": "stdout",
          "text": [
            "Requirement already satisfied: pycryptodome in /usr/local/lib/python3.11/dist-packages (3.21.0)\n",
            "Generated Key (Hex): beb7fb54cdc828f5\n",
            "Generated IV (Hex): ba55da111976e1bd\n",
            "Enter the plaintext: Hello Prabhanjan U V\n",
            "\n",
            "Encryption & Decryption Results:\n",
            "Plaintext: Hello Prabhanjan U V\n",
            "Encrypted (Hex): 768bc4597bc68f6b94c0de3a67176943ca5066f49d780783\n",
            "Decrypted: Hello Prabhanjan U V\n",
            "verification sucessfull!\n"
          ]
        }
      ],
      "source": [
        "!pip install pycryptodome\n",
        "from Crypto.Cipher import DES\n",
        "from Crypto.Util.Padding import pad, unpad\n",
        "from Crypto.Random import get_random_bytes\n",
        "key = get_random_bytes(8)\n",
        "iv = get_random_bytes(8)\n",
        "\n",
        "print(f\"Generated Key (Hex): {key.hex()}\")\n",
        "print(f\"Generated IV (Hex): {iv.hex()}\")\n",
        "\n",
        "def encrypt(plaintext):\n",
        "    cipher = DES.new(key, DES.MODE_CBC, iv)\n",
        "    padded_plaintext = pad(plaintext.encode(), DES.block_size)\n",
        "    ciphertext = cipher.encrypt(padded_plaintext)\n",
        "    return ciphertext\n",
        "\n",
        "def decrypt(ciphertext):\n",
        "    cipher = DES.new(key, DES.MODE_CBC, iv)\n",
        "    decrypted_data = cipher.decrypt(ciphertext)\n",
        "    plaintext = unpad(decrypted_data, DES.block_size)1\n",
        "    return plaintext.decode()\n",
        "\n",
        "plaintext = input(\"Enter the plaintext: \")\n",
        "\n",
        "\n",
        "encrypted = encrypt(plaintext)\n",
        "decrypted = decrypt(encrypted)\n",
        "print(\"\\nEncryption & Decryption Results:\")\n",
        "print(f'Plaintext: {plaintext}')\n",
        "print(f'Encrypted (Hex): {encrypted.hex()}')\n",
        "print(f'Decrypted: {decrypted}')\n",
        "print('verification sucessfull!')"
      ]
    }
  ]
}